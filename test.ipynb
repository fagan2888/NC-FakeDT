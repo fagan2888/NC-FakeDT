{
 "cells": [
  {
   "cell_type": "code",
   "execution_count": 15,
   "metadata": {},
   "outputs": [
    {
     "name": "stdout",
     "output_type": "stream",
     "text": [
      "[['this is a test pls work' '1']\n",
      " ['this is a \"test\" pls work' '1']]\n"
     ]
    }
   ],
   "source": [
    "import csv\n",
    "import numpy as np\n",
    "\n",
    "a = [['this is a test pls work',1],['this is a \"test\" pls work',1]]\n",
    "\n",
    "b = np.array(a)\n",
    "with open(\"test.csv\", 'w') as file:\n",
    "    writer = csv.writer(file, delimiter='|')\n",
    "    writer.writerows(b)\n",
    "    \n",
    "    \n",
    "\n",
    "tweets = []\n",
    "with open(\"test.csv\") as csvfile:\n",
    "    spamreader = csv.reader(csvfile, delimiter='|')\n",
    "    for row in spamreader:\n",
    "        if row != []:\n",
    "            tweets.append(row)\n",
    "    csvfile.closed\n",
    "    \n",
    "tweets = np.array(tweets)\n",
    "print(tweets)\n",
    "\n"
   ]
  },
  {
   "cell_type": "code",
   "execution_count": null,
   "metadata": {},
   "outputs": [],
   "source": []
  }
 ],
 "metadata": {
  "kernelspec": {
   "display_name": "Python 3",
   "language": "python",
   "name": "python3"
  },
  "language_info": {
   "codemirror_mode": {
    "name": "ipython",
    "version": 3
   },
   "file_extension": ".py",
   "mimetype": "text/x-python",
   "name": "python",
   "nbconvert_exporter": "python",
   "pygments_lexer": "ipython3",
   "version": "3.6.5"
  }
 },
 "nbformat": 4,
 "nbformat_minor": 2
}
