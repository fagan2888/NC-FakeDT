{
 "cells": [
  {
   "cell_type": "code",
   "execution_count": 1,
   "metadata": {},
   "outputs": [
    {
     "name": "stderr",
     "output_type": "stream",
     "text": [
      "D:\\Programme\\Anaconda\\lib\\site-packages\\h5py\\__init__.py:36: FutureWarning: Conversion of the second argument of issubdtype from `float` to `np.floating` is deprecated. In future, it will be treated as `np.float64 == np.dtype(float).type`.\n",
      "  from ._conv import register_converters as _register_converters\n",
      "Using TensorFlow backend.\n"
     ]
    }
   ],
   "source": [
    "import pandas as pd\n",
    "import numpy as np\n",
    "import nltk\n",
    "import csv\n",
    "\n",
    "import matplotlib.pyplot as plt\n",
    "from sklearn.model_selection import train_test_split\n",
    "\n",
    "import keras\n",
    "from keras import layers, optimizers, models\n",
    "from keras.utils.np_utils import to_categorical\n",
    "from keras.preprocessing.image import ImageDataGenerator\n",
    "from keras.callbacks import ReduceLROnPlateau\n",
    "import LanguageModel as LM\n",
    "import time\n",
    "\n",
    "import csv\n",
    "import random"
   ]
  },
  {
   "cell_type": "code",
   "execution_count": 2,
   "metadata": {},
   "outputs": [],
   "source": [
    "def generate_model():\n",
    "    # Initialize the model to have sequential forward propagation\n",
    "    network = models.Sequential() \n",
    "    \n",
    "    # Define model's architecture    \n",
    "#     network.add(layers.Conv1D(\n",
    "#     filters=64,\n",
    "#     kernel_size= 2,\n",
    "#     padding='Same',\n",
    "#     strides=1,\n",
    "#     activation='relu',\n",
    "#     input_shape=(68,1),\n",
    "#     kernel_initializer='he_normal',\n",
    "#     bias_initializer='zeros'\n",
    "#     ))\n",
    "    \n",
    "#     network.add(layers.Conv1D(\n",
    "#     filters=64,\n",
    "#     kernel_size=3,\n",
    "#     padding='Same',\n",
    "#     strides=1,\n",
    "#     activation='relu',\n",
    "#     kernel_initializer='he_normal',\n",
    "#     bias_initializer='zeros'\n",
    "#     ))\n",
    "    \n",
    "    network.add(layers.Conv1D(\n",
    "    filters=64,\n",
    "    kernel_size=5,\n",
    "    padding='Same',\n",
    "    strides=1,\n",
    "    input_shape=(70,47),\n",
    "    activation='relu',\n",
    "    kernel_initializer='he_normal',\n",
    "    bias_initializer='zeros'\n",
    "    ))\n",
    "    \n",
    "    network.add(layers.Conv1D(\n",
    "    filters=64,\n",
    "    kernel_size=7,\n",
    "    padding='Same',\n",
    "    strides=1,\n",
    "    activation='relu',\n",
    "    kernel_initializer='he_normal',\n",
    "    bias_initializer='zeros'\n",
    "    ))\n",
    "    \n",
    "#     network.add(layers.Conv1D(\n",
    "#     filters=64,\n",
    "#     kernel_size=9,\n",
    "#     padding='Same',\n",
    "#     strides=1,\n",
    "#     activation='relu',\n",
    "#     kernel_initializer='he_normal',\n",
    "#     bias_initializer='zeros'\n",
    "#     ))\n",
    "    \n",
    "    network.add(layers.Flatten())\n",
    "    \n",
    "    network.add(layers.BatchNormalization())\n",
    "    \n",
    "    network.add(layers.Dropout(0.3))\n",
    "    \n",
    "    network.add(layers.Dense(\n",
    "    3,\n",
    "    activation='softmax',\n",
    "    kernel_initializer='glorot_uniform',\n",
    "    bias_initializer='zeros'\n",
    "    ))\n",
    "    \n",
    "    return network"
   ]
  },
  {
   "cell_type": "code",
   "execution_count": 3,
   "metadata": {},
   "outputs": [],
   "source": [
    "#Name = './sequenceData/Model/GoodEnough'\n",
    "Name = './sequenceData/Model/LanguageClassification-v1.0'\n"
   ]
  },
  {
   "cell_type": "code",
   "execution_count": 4,
   "metadata": {},
   "outputs": [
    {
     "name": "stdout",
     "output_type": "stream",
     "text": [
      "_________________________________________________________________\n",
      "Layer (type)                 Output Shape              Param #   \n",
      "=================================================================\n",
      "conv1d_1 (Conv1D)            (None, 70, 64)            15104     \n",
      "_________________________________________________________________\n",
      "conv1d_2 (Conv1D)            (None, 70, 64)            28736     \n",
      "_________________________________________________________________\n",
      "flatten_1 (Flatten)          (None, 4480)              0         \n",
      "_________________________________________________________________\n",
      "batch_normalization_1 (Batch (None, 4480)              17920     \n",
      "_________________________________________________________________\n",
      "dropout_1 (Dropout)          (None, 4480)              0         \n",
      "_________________________________________________________________\n",
      "dense_1 (Dense)              (None, 3)                 13443     \n",
      "=================================================================\n",
      "Total params: 75,203\n",
      "Trainable params: 66,243\n",
      "Non-trainable params: 8,960\n",
      "_________________________________________________________________\n"
     ]
    }
   ],
   "source": [
    "\n",
    "# learning rate and decay\n",
    "learning_rate = 0.01\n",
    "decay = 1e-3\n",
    "\n",
    "# optimizer\n",
    "optimizer = optimizers.Adam()\n",
    "\n",
    "# loss\n",
    "loss = \"categorical_crossentropy\"\n",
    "\n",
    "# metrics\n",
    "metrics = [\"categorical_accuracy\"]\n",
    "\n",
    "# dropout\n",
    "dropout = 0.3\n",
    "\n",
    "# compile the model\n",
    "model = generate_model()\n",
    "model.compile(optimizer, loss, metrics)\n",
    "model.summary()\n",
    "model.load_weights(Name)\n",
    "\n"
   ]
  },
  {
   "cell_type": "code",
   "execution_count": 34,
   "metadata": {},
   "outputs": [],
   "source": [
    "DTdata = []\n",
    "directoryDT = './sequenceData/Eminem_tweets.csv'\n",
    "#directoryDT = './sequenceData/TestDonaldTrump_tweets.csv'\n",
    "#DTdata_pd = pd.read_csv(directoryDT, delimiter='|')\n",
    "with open(directoryDT, 'r') as csvfile:\n",
    "    spamreader = csv.reader(csvfile, delimiter='|')\n",
    "    for row in spamreader:\n",
    "        if row !=[]:\n",
    "            r=[]\n",
    "            for col in row:\n",
    "                r.append(float(col))      \n",
    "            DTdata.append(np.array(r))\n",
    "    csvfile.closed\n",
    "    \n",
    "DTdata_np = np.array(DTdata)\n",
    "x_data_DT = np.zeros((len(DTdata_np), 70))\n",
    "x_data_DT_oneHot = []\n",
    "\n",
    "for i in range(len(DTdata_np)):   \n",
    "    newOneHot = []\n",
    "    x_data_DT[i, :len(DTdata_np[i])] = DTdata_np[i]\n",
    "    for e in x_data_DT[i]:\n",
    "        newOneHot.append(to_categorical(e, num_classes=47))\n",
    "    x_data_DT_oneHot.append(np.array(newOneHot))\n",
    "\n",
    "x_data_DT_oneHot = np.array(x_data_DT_oneHot)\n",
    "test_data = x_data_DT_oneHot.reshape(-1, 70, 47)\n",
    "\n",
    "\n",
    "x_data_DT_aug = np.zeros((len(DTdata_np), 70))\n",
    "x_data_DT_oneHot_aug = []\n",
    "for i in range(len(DTdata_np)): \n",
    "    newOneHot = []\n",
    "    row = np.array(DTdata_np[i], copy=True)  \n",
    "    np.random.shuffle(row) \n",
    "    x_data_DT_aug[i, :len(row)] = row\n",
    "    for e in x_data_DT_aug[i]:\n",
    "        newOneHot.append(to_categorical(e, num_classes=47))\n",
    "    x_data_DT_oneHot_aug.append(np.array(newOneHot))\n",
    "    \n",
    "x_data_DT_oneHot_aug = np.array(x_data_DT_oneHot_aug)\n",
    "test_data_rd = x_data_DT_oneHot_aug.reshape(-1, 70, 47)\n",
    "    \n",
    "    \n",
    "    "
   ]
  },
  {
   "cell_type": "code",
   "execution_count": 35,
   "metadata": {},
   "outputs": [],
   "source": [
    "predictions = model.predict(test_data)\n",
    "predictionsRD = model.predict(test_data_rd)"
   ]
  },
  {
   "cell_type": "code",
   "execution_count": 36,
   "metadata": {},
   "outputs": [],
   "source": [
    "u, c = np.unique(np.argmax(predictions, axis=1), return_counts = True)\n",
    "urd, crd = np.unique(np.argmax(predictionsRD, axis=1), return_counts = True)"
   ]
  },
  {
   "cell_type": "code",
   "execution_count": 37,
   "metadata": {},
   "outputs": [
    {
     "name": "stdout",
     "output_type": "stream",
     "text": [
      "eminem  [0 1 2] [0.14071038 0.79371585 0.06557377]\n",
      "random  [0 1 2] [0.00546448 0.05874317 0.93579235]\n"
     ]
    }
   ],
   "source": [
    "emineml = sum(c)\n",
    "print(\"eminem \",u, c/emineml)\n",
    "print(\"random \",urd, crd/emineml)\n"
   ]
  },
  {
   "cell_type": "code",
   "execution_count": 38,
   "metadata": {},
   "outputs": [
    {
     "name": "stdout",
     "output_type": "stream",
     "text": [
      "0.24559732721834987 0.24417738624862675\n"
     ]
    }
   ],
   "source": [
    "\n",
    "percantages = [0.75, -0.25, 0]\n",
    "\n",
    "b = predictions *percantages\n",
    "d = np.sum(predictions * percantages, axis= 1)\n",
    "e = np.sum(predictionsRD * percantages, axis= 1)\n",
    "\n",
    "d[:] += 0.25\n",
    "d[:] = d[:]/1\n",
    "e[:] += 0.25\n",
    "e[:] = e[:]/1\n",
    "\n",
    "print(np.mean(d), np.mean(e))"
   ]
  },
  {
   "cell_type": "code",
   "execution_count": 39,
   "metadata": {},
   "outputs": [],
   "source": [
    "eminem = [0.24559732721834987, 0.24417738624862675]\n",
    "dt = [0.608606853798298, 0.24736444697725454]"
   ]
  },
  {
   "cell_type": "code",
   "execution_count": null,
   "metadata": {},
   "outputs": [],
   "source": []
  }
 ],
 "metadata": {
  "kernelspec": {
   "display_name": "Python 3",
   "language": "python",
   "name": "python3"
  },
  "language_info": {
   "codemirror_mode": {
    "name": "ipython",
    "version": 3
   },
   "file_extension": ".py",
   "mimetype": "text/x-python",
   "name": "python",
   "nbconvert_exporter": "python",
   "pygments_lexer": "ipython3",
   "version": "3.6.5"
  }
 },
 "nbformat": 4,
 "nbformat_minor": 2
}
