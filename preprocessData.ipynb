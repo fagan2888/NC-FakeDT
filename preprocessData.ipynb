{
 "cells": [
  {
   "cell_type": "code",
   "execution_count": 4,
   "metadata": {},
   "outputs": [],
   "source": [
    "import pandas as pd\n",
    "import numpy as np\n",
    "import random\n",
    "import csv"
   ]
  },
  {
   "cell_type": "code",
   "execution_count": 5,
   "metadata": {},
   "outputs": [],
   "source": [
    "#name = './processedData/processedDataDonaldTrump.csv'\n",
    "#directory = './get_tweets/realDonaldTrump_tweets.csv'\n",
    "\n",
    "\n",
    "#name = './processedData/processedDataNotDonaldTrump.csv'\n",
    "#directory = './get_tweets/NotDT/results/NotDonaldTrump_tweets.csv'\n",
    "\n",
    "#name = './processedData/Eminem_tweets.csv'\n",
    "#directory = './Eminem_tweets.csv'\n",
    "\n",
    "name = './processedData/TestDonaldTrump_tweets.csv'\n",
    "directory = './TestDonaldTrump_tweets.csv'\n",
    "\n",
    "\n",
    "tweets = []\n",
    "with open(directory) as csvfile:\n",
    "    spamreader = csv.reader(csvfile, delimiter='|')\n",
    "    for row in spamreader:\n",
    "        if row != []:\n",
    "            tweets.append(row)\n",
    "    csvfile.closed\n",
    "    \n",
    "tweets = np.array(tweets)\n",
    "\n",
    "\n"
   ]
  },
  {
   "cell_type": "code",
   "execution_count": 6,
   "metadata": {},
   "outputs": [],
   "source": [
    "preprocessedData = []\n",
    "#counter = 1\n",
    "for tweet in tweets:\n",
    "    tweettext = tweet[1]\n",
    "    tweettext = tweettext[2:]\n",
    "    tweettext = tweettext[:-1]\n",
    "    \n",
    "    \n",
    "    token = tweettext.split()\n",
    "    processedTweet = []\n",
    "    for i in range(len(token)):\n",
    "        addtoken = True\n",
    "        if \"//\" in token[i]:\n",
    "            if \"http\" in token[i]:\n",
    "                index = token[i].index(\"http\")\n",
    "                token[i] = token[i][:(index)]\n",
    "                addtoken = True\n",
    "            else:\n",
    "                addtoken = False\n",
    "\n",
    "\n",
    "        if \"\\\\n\" in token[i]:\n",
    "            index = token[i].index(\"\\\\n\")\n",
    "            token[i] = token[i][:(index)] + token[i][index+2:]\n",
    "            addtoken = True\n",
    "\n",
    "        if \"&amp\" in token[i]:\n",
    "            index = token[i].index(\"&amp\")\n",
    "            token[i] = token[i][:(index+1)] + token[i][index+5:]\n",
    "            addtoken = True\n",
    "\n",
    "        if \"\\\\\" in token[i]:\n",
    "            addtoken = False\n",
    "    \n",
    "            \n",
    "        if addtoken:\n",
    "            processedTweet.append(token[i])\n",
    "             \n",
    "    \n",
    "    if len(processedTweet)>1:\n",
    "        preprocessedData.append([0,0])\n",
    "        preprocessedData[-1][0]= tweet[0]\n",
    "        #print(processedTweet)\n",
    "        preprocessedData[-1][1]= ' '.join(processedTweet)\n",
    "        #preprocessedData.append(\" \".join(processedTweet))  \n",
    "        #counter+=2\n",
    "    \n",
    "preprocessedData_np = np.array(preprocessedData)\n",
    "# with open(name, 'w') as file:\n",
    "#     writer = csv.writer(file, delimiter='|')\n",
    "#     writer.writerows(preprocessedData_np)"
   ]
  },
  {
   "cell_type": "code",
   "execution_count": null,
   "metadata": {},
   "outputs": [],
   "source": []
  }
 ],
 "metadata": {
  "kernelspec": {
   "display_name": "Python 3",
   "language": "python",
   "name": "python3"
  },
  "language_info": {
   "codemirror_mode": {
    "name": "ipython",
    "version": 3
   },
   "file_extension": ".py",
   "mimetype": "text/x-python",
   "name": "python",
   "nbconvert_exporter": "python",
   "pygments_lexer": "ipython3",
   "version": "3.6.4"
  }
 },
 "nbformat": 4,
 "nbformat_minor": 2
}
