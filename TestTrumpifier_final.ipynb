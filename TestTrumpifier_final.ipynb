{
 "cells": [
  {
   "cell_type": "code",
   "execution_count": 1,
   "metadata": {},
   "outputs": [
    {
     "name": "stderr",
     "output_type": "stream",
     "text": [
      "/home/alessandro/anaconda3/lib/python3.6/site-packages/h5py/__init__.py:36: FutureWarning: Conversion of the second argument of issubdtype from `float` to `np.floating` is deprecated. In future, it will be treated as `np.float64 == np.dtype(float).type`.\n",
      "  from ._conv import register_converters as _register_converters\n",
      "Using TensorFlow backend.\n"
     ]
    }
   ],
   "source": [
    "import numpy as np\n",
    "from sklearn.model_selection import train_test_split\n",
    "from sklearn.metrics import confusion_matrix\n",
    "import seaborn as sns\n",
    "import pandas as pd\n",
    "import os\n",
    "import nltk\n",
    "import re\n",
    "import keras\n",
    "from keras import Model\n",
    "import csv\n",
    "import matplotlib.pyplot as plt\n",
    "\n",
    "# out libraries\n",
    "import Utils.W2V as wor2vec\n",
    "from Utils.classifier import create_Trumpifier\n",
    "from Utils.genetic_algorithm import GeneticAlgorithm\n",
    "\n",
    "from keras.callbacks import ModelCheckpoint\n",
    "# random seed\n",
    "rseed = 12345678"
   ]
  },
  {
   "cell_type": "code",
   "execution_count": 2,
   "metadata": {},
   "outputs": [
    {
     "name": "stderr",
     "output_type": "stream",
     "text": [
      "2018-06-19 20:18:44,663 : INFO : loading Word2Vec object from ./Utils/w2v_models/test_w2v_eminem\n",
      "2018-06-19 20:18:46,105 : INFO : loading wv recursively from ./Utils/w2v_models/test_w2v_eminem.wv.* with mmap=None\n",
      "2018-06-19 20:18:46,106 : INFO : setting ignored attribute vectors_norm to None\n",
      "2018-06-19 20:18:46,107 : INFO : loading vocabulary recursively from ./Utils/w2v_models/test_w2v_eminem.vocabulary.* with mmap=None\n",
      "2018-06-19 20:18:46,108 : INFO : loading trainables recursively from ./Utils/w2v_models/test_w2v_eminem.trainables.* with mmap=None\n",
      "2018-06-19 20:18:46,109 : INFO : setting ignored attribute cum_table to None\n",
      "2018-06-19 20:18:46,109 : INFO : loaded ./Utils/w2v_models/test_w2v_eminem\n",
      "2018-06-19 20:18:46,222 : INFO : saving Word2Vec object under ./Utils/w2v_models/test_w2v_eminem, separately None\n",
      "2018-06-19 20:18:46,223 : INFO : not storing attribute vectors_norm\n",
      "2018-06-19 20:18:46,223 : INFO : not storing attribute cum_table\n",
      "2018-06-19 20:18:47,283 : INFO : saved ./Utils/w2v_models/test_w2v_eminem\n"
     ]
    },
    {
     "name": "stdout",
     "output_type": "stream",
     "text": [
      "Length input = 171044\n",
      "Length output = 171044\n",
      "Unknown words = 0\n"
     ]
    }
   ],
   "source": [
    "# load raw data\n",
    "Eminem_df = pd.read_csv('processedData/Eminem_tweets.csv',delimiter=\"|\", header=None)\n",
    "newTrump_df = pd.read_csv('processedData/TestDonaldTrump_tweets.csv',delimiter=\"|\", header=None)\n",
    "notTrump_df = pd.read_csv('processedData/processedDataNotDonaldTrump.csv',delimiter=\"|\", header=None)\n",
    "Trump_df = pd.read_csv('processedData/processedDataDonaldTrump.csv',delimiter=\"|\", header=None)\n",
    "\n",
    "\n",
    "# delete special characters, generate labels and training data for word2vec\n",
    "# test set\n",
    "X_trump = [\"\".join(re.split('[`\\-=~!@#$%^&*()_+\\[\\]{};\\'\\\\:\"|<,./<>?]', t)).split() for t in Trump_df[1].values.tolist()]\n",
    "y_trump = np.zeros(len(X_trump), dtype=int)\n",
    "\n",
    "X_eminem = [\"\".join(re.split('[`\\-=~!@#$%^&*()_+\\[\\]{};\\'\\\\:\"|<,./<>?]', t)).split() for t in Eminem_df[1].values.tolist()]\n",
    "y_eminem = np.ones(len(X_eminem), dtype=int)\n",
    "\n",
    "# training set\n",
    "X_t = [\"\".join(re.split('[`\\-=~!@#$%^&*()_+\\[\\]{};\\'\\\\:\"|<,./<>?]', t)).split() for t in Trump_df[1].values.tolist()]\n",
    "y_t = np.zeros(len(X_t), dtype=int)\n",
    "\n",
    "X_nt = [\"\".join(re.split('[`\\-=~!@#$%^&*()_+\\[\\]{};\\'\\\\:\"|<,./<>?]', t)).split() for t in notTrump_df[1].values.tolist()]\n",
    "y_nt = np.ones(len(X_nt), dtype=int)\n",
    "\n",
    "# make random combinations of each tweet\n",
    "X_random_eminem = []\n",
    "X_random_trump = []\n",
    "X_random_t = []\n",
    "X_random_nt = []\n",
    "\n",
    "for i in range(len(X_eminem)):\n",
    "    row = X_eminem[i].copy()\n",
    "    np.random.shuffle(row)\n",
    "    X_random_eminem.append(row)\n",
    "\n",
    "for i in range(len(X_trump)):\n",
    "    row = X_trump[i].copy()\n",
    "    np.random.shuffle(row)\n",
    "    X_random_trump.append(row)\n",
    "\n",
    "for i in range(len(X_t)):\n",
    "    row = X_t[i].copy()\n",
    "    np.random.shuffle(row)\n",
    "    X_random_t.append(row)\n",
    "\n",
    "for i in range(len(X_nt)):\n",
    "    row = X_nt[i].copy()\n",
    "    np.random.shuffle(row)\n",
    "    X_random_nt.append(row)\n",
    "    \n",
    "y_random_t = np.ones(len(X_random_t), dtype=int) * 2\n",
    "y_random_nt = np.ones(len(X_random_nt), dtype=int) * 2\n",
    "y_random_eminem = np.ones(len(X_random_eminem), dtype=int) * 2\n",
    "y_random_trump = np.ones(len(X_random_trump), dtype=int) * 2\n",
    "\n",
    "# Convert all data to vectors\n",
    "vec_size = 100\n",
    "tweet_len = 70\n",
    "\n",
    "w2v_ds = np.concatenate((X_t, X_nt, X_random_t, X_random_nt, X_eminem, X_trump, X_random_eminem, X_random_trump))\n",
    "\n",
    "# use words not contained in tw\n",
    "USE_NO_TWEET_W = False\n",
    "\n",
    "w2v = wor2vec.W2V(out_size = vec_size, fname=\"test_w2v_eminem\")\n",
    "# w2v.create_w2v(w2v_ds, USE_NO_TWEET_W)\n",
    "w2v.load_w2v()\n",
    "w2v_dict = w2v.dictionary\n",
    "\n",
    "# merge all data\n",
    "X_train = np.concatenate((X_t, X_nt, X_random_t, X_random_nt))\n",
    "y = np.concatenate((y_t, y_nt, y_random_t, y_random_nt))\n",
    "y_train = keras.utils.to_categorical(y)\n",
    "X_vec_train = w2v.vectorize_words(X_train, tweet_len)"
   ]
  },
  {
   "cell_type": "code",
   "execution_count": 3,
   "metadata": {},
   "outputs": [],
   "source": [
    "# # split train and test\n",
    "# X_train, X_test, y_trainn, y_test = train_test_split(X_vec_train, y_train, test_size=0.20, shuffle=True, random_state=rseed)\n",
    "\n",
    "# X_train = np.array([np.array(x) for x in X_train])\n",
    "# X_test = np.array([np.array(x) for x in X_test])"
   ]
  },
  {
   "cell_type": "code",
   "execution_count": 5,
   "metadata": {},
   "outputs": [
    {
     "name": "stdout",
     "output_type": "stream",
     "text": [
      "_________________________________________________________________\n",
      "Layer (type)                 Output Shape              Param #   \n",
      "=================================================================\n",
      "input_1 (InputLayer)         (None, 70, 100)           0         \n",
      "_________________________________________________________________\n",
      "conv1d_7 (Conv1D)            (None, 68, 64)            19264     \n",
      "_________________________________________________________________\n",
      "conv1d_8 (Conv1D)            (None, 66, 32)            6176      \n",
      "_________________________________________________________________\n",
      "conv1d_9 (Conv1D)            (None, 66, 64)            10304     \n",
      "_________________________________________________________________\n",
      "max_pooling1d_3 (MaxPooling1 (None, 33, 64)            0         \n",
      "_________________________________________________________________\n",
      "dropout_3 (Dropout)          (None, 33, 64)            0         \n",
      "_________________________________________________________________\n",
      "conv1d_10 (Conv1D)           (None, 33, 32)            2080      \n",
      "_________________________________________________________________\n",
      "conv1d_11 (Conv1D)           (None, 33, 16)            528       \n",
      "_________________________________________________________________\n",
      "max_pooling1d_4 (MaxPooling1 (None, 16, 16)            0         \n",
      "_________________________________________________________________\n",
      "flatten_1 (Flatten)          (None, 256)               0         \n",
      "_________________________________________________________________\n",
      "dropout_4 (Dropout)          (None, 256)               0         \n",
      "_________________________________________________________________\n",
      "dense_1 (Dense)              (None, 1120)              287840    \n",
      "_________________________________________________________________\n",
      "dense_2 (Dense)              (None, 560)               627760    \n",
      "_________________________________________________________________\n",
      "dense_3 (Dense)              (None, 1120)              628320    \n",
      "_________________________________________________________________\n",
      "dense_4 (Dense)              (None, 30)                33630     \n",
      "_________________________________________________________________\n",
      "dense_5 (Dense)              (None, 3)                 93        \n",
      "_________________________________________________________________\n",
      "activation_1 (Activation)    (None, 3)                 0         \n",
      "=================================================================\n",
      "Total params: 1,615,995\n",
      "Trainable params: 1,615,995\n",
      "Non-trainable params: 0\n",
      "_________________________________________________________________\n",
      "None\n"
     ]
    }
   ],
   "source": [
    "# classifier = create_Trumpifier(in_size = (tweet_len, vec_size), out_size = len(y_trainn[0]))"
   ]
  },
  {
   "cell_type": "code",
   "execution_count": 6,
   "metadata": {},
   "outputs": [
    {
     "name": "stdout",
     "output_type": "stream",
     "text": [
      "34209/34209 [==============================] - 14s 419us/step\n"
     ]
    },
    {
     "data": {
      "text/plain": [
       "[0.7287548429894396, 0.6085923083980087]"
      ]
     },
     "execution_count": 6,
     "metadata": {},
     "output_type": "execute_result"
    }
   ],
   "source": [
    "# classifier.evaluate(X_test, y_test, batch_size=512, verbose=1)"
   ]
  },
  {
   "cell_type": "code",
   "execution_count": 2,
   "metadata": {},
   "outputs": [],
   "source": [
    "Trumpifier_name = \"Final_test_eminem_trumpifier.h5\"\n",
    "# load pretrained model\n",
    "classifier = keras.models.load_model(os.path.join(\"./Utils/w2v_models/\", Trumpifier_name))\n",
    "\n",
    "\n",
    "# Fit the model\n",
    "# checkpoint = ModelCheckpoint(os.path.join(\"./Utils/w2v_models/\", Trumpifier_name), \n",
    "#                              monitor='val_loss', \n",
    "#                              verbose=1, \n",
    "#                              save_best_only=True)\n",
    "# earlyStop = keras.callbacks.EarlyStopping(monitor='val_loss', \n",
    "#                                           patience=10, \n",
    "#                                           verbose=1)\n",
    "\n",
    "# classifier.fit(X_train, y_trainn, \n",
    "#                validation_split = 0.2,\n",
    "#                epochs = 100, \n",
    "#                batch_size = 1024,\n",
    "#                callbacks = [checkpoint, earlyStop]\n",
    "#               )"
   ]
  },
  {
   "cell_type": "code",
   "execution_count": 12,
   "metadata": {},
   "outputs": [
    {
     "name": "stdout",
     "output_type": "stream",
     "text": [
      "34209/34209 [==============================] - 2s 62us/step\n"
     ]
    },
    {
     "data": {
      "text/plain": [
       "[0.24857558530668855, 0.8884504280267636]"
      ]
     },
     "execution_count": 12,
     "metadata": {},
     "output_type": "execute_result"
    }
   ],
   "source": [
    "# classifier.evaluate(X_test, y_test, batch_size=32, verbose=1)"
   ]
  },
  {
   "cell_type": "code",
   "execution_count": 5,
   "metadata": {},
   "outputs": [
    {
     "name": "stdout",
     "output_type": "stream",
     "text": [
      "69230/69230 [==============================] - 5s 65us/step\n",
      "[0.2568711500810213, 0.8800472058554907]\n"
     ]
    },
    {
     "data": {
      "image/png": "[encoded data removed]",
      "text/plain": [
       "<Figure size 432x288 with 2 Axes>"
      ]
     },
     "metadata": {},
     "output_type": "display_data"
    }
   ],
   "source": [
    "# create dataset for testing classifier\n",
    "X_new_test = np.concatenate((X_eminem, X_trump, X_random_eminem, X_random_trump))\n",
    "y = np.concatenate((y_eminem, y_trump, y_random_eminem, y_random_trump))\n",
    "y_new_test = keras.utils.to_categorical(y)\n",
    "X_vec_test = w2v.vectorize_words(X_new_test, tweet_len)\n",
    "\n",
    "X_test_new = np.array([np.array(x) for x in X_vec_test])\n",
    "\n",
    "predictions = classifier.predict(X_test_new)\n",
    "print(classifier.evaluate(X_test_new, y_new_test))\n",
    "\n",
    "\n",
    "cm = confusion_matrix(np.argmax(y_new_test, 1), np.argmax(predictions, 1))\n",
    "cm = cm.astype('float') / cm.sum(axis=1)[:, np.newaxis]\n",
    "\n",
    "fig = plt.figure()\n",
    "ax =plt.subplot()\n",
    "plt.imshow(cm, interpolation='nearest')\n",
    "sns.heatmap(cm, annot=True, ax = ax);\n",
    "plt.title(\"Confusion matrix\")\n",
    "tick_marks = np.arange(3)\n",
    "plt.xticks(tick_marks, [\"Trump\", \"Eminem\", \"Random\"], rotation=45)\n",
    "plt.yticks(tick_marks, [\"Trump\", \"Eminem\", \"Random\"])\n",
    "plt.tight_layout()\n",
    "plt.ylabel('True label')\n",
    "plt.xlabel('Predicted label')\n",
    "plt.show()\n",
    "\n",
    "fig.savefig('cm_eminem.png')"
   ]
  },
  {
   "cell_type": "code",
   "execution_count": 3,
   "metadata": {},
   "outputs": [
    {
     "name": "stderr",
     "output_type": "stream",
     "text": [
      "2018-06-19 20:39:07,747 : INFO : loading Word2Vec object from ./Utils/w2v_models/test_w2v_eminem\n",
      "2018-06-19 20:39:09,189 : INFO : loading wv recursively from ./Utils/w2v_models/test_w2v_eminem.wv.* with mmap=None\n",
      "2018-06-19 20:39:09,189 : INFO : setting ignored attribute vectors_norm to None\n",
      "2018-06-19 20:39:09,190 : INFO : loading vocabulary recursively from ./Utils/w2v_models/test_w2v_eminem.vocabulary.* with mmap=None\n",
      "2018-06-19 20:39:09,191 : INFO : loading trainables recursively from ./Utils/w2v_models/test_w2v_eminem.trainables.* with mmap=None\n",
      "2018-06-19 20:39:09,191 : INFO : setting ignored attribute cum_table to None\n",
      "2018-06-19 20:39:09,192 : INFO : loaded ./Utils/w2v_models/test_w2v_eminem\n",
      "2018-06-19 20:39:09,303 : INFO : saving Word2Vec object under ./Utils/w2v_models/test_w2v_eminem, separately None\n",
      "2018-06-19 20:39:09,303 : INFO : not storing attribute vectors_norm\n",
      "2018-06-19 20:39:09,304 : INFO : not storing attribute cum_table\n",
      "2018-06-19 20:39:10,031 : INFO : saved ./Utils/w2v_models/test_w2v_eminem\n"
     ]
    },
    {
     "name": "stdout",
     "output_type": "stream",
     "text": [
      "Length input = 171044\n",
      "Length output = 171044\n",
      "Unknown words = 0\n"
     ]
    }
   ],
   "source": [
    "# load raw data\n",
    "notTrump_df = pd.read_csv('processedData/processedDataNotDonaldTrump.csv',delimiter=\"|\", header=None)\n",
    "Trump_df = pd.read_csv('processedData/processedDataDonaldTrump.csv',delimiter=\"|\", header=None)\n",
    "\n",
    "# delete special characters, generate labels and training data for word2vec\n",
    "X_t = [\"\".join(re.split('[`\\-=~!@#$%^&*()_+\\[\\]{};\\'\\\\:\"|<,./<>?]', t)).split() for t in Trump_df[1].values.tolist()]\n",
    "y_t = np.zeros(len(X_t), dtype=int)\n",
    "\n",
    "X_nt = [\"\".join(re.split('[`\\-=~!@#$%^&*()_+\\[\\]{};\\'\\\\:\"|<,./<>?]', t)).split() for t in notTrump_df[1].values.tolist()]\n",
    "y_nt = np.ones(len(X_nt), dtype=int)\n",
    "\n",
    "# make random combinations of each tweet\n",
    "X_random_t = []\n",
    "X_random_nt = []\n",
    "\n",
    "for i in range(len(X_t)):\n",
    "    row = X_t[i].copy()\n",
    "    np.random.shuffle(row)\n",
    "    X_random_t.append(row)\n",
    "\n",
    "for i in range(len(X_nt)):\n",
    "    row = X_nt[i].copy()\n",
    "    np.random.shuffle(row)\n",
    "    X_random_nt.append(row)\n",
    "    \n",
    "y_random_t = np.ones(len(X_random_t), dtype=int) * 2\n",
    "y_random_nt = np.ones(len(X_random_nt), dtype=int) * 2\n",
    "\n",
    "\n",
    "# Convert all data to vectors\n",
    "vec_size = 100\n",
    "tweet_len = 70\n",
    "\n",
    "w2v_ds = np.concatenate((X_t, X_nt, X_random_t, X_random_nt))\n",
    "\n",
    "w2v = wor2vec.W2V(out_size = vec_size, fname=\"test_w2v_eminem\")\n",
    "# w2v.create_w2v(w2v_ds, USE_NO_TWEET_W)\n",
    "w2v.load_w2v()\n",
    "w2v_dict = w2v.dictionary\n",
    "\n",
    "\n",
    "# merge all data\n",
    "X = np.concatenate((X_t, X_nt, X_random_t, X_random_nt))\n",
    "y = np.concatenate((y_t, y_nt, y_random_t, y_random_nt))\n",
    "y = keras.utils.to_categorical(y)\n",
    "\n",
    "X_vec = w2v.vectorize_words(X, tweet_len)"
   ]
  },
  {
   "cell_type": "code",
   "execution_count": 4,
   "metadata": {},
   "outputs": [
    {
     "name": "stdout",
     "output_type": "stream",
     "text": [
      "171044/171044 [==============================] - 15s 85us/step\n",
      "[0.24407939074309618, 0.8897866629363249]\n"
     ]
    },
    {
     "data": {
      "image/png": "[encoded data removed]",
      "text/plain": [
       "<Figure size 432x288 with 2 Axes>"
      ]
     },
     "metadata": {},
     "output_type": "display_data"
    }
   ],
   "source": [
    "X_test = np.array([np.array(x) for x in X_vec])\n",
    "\n",
    "predictions = classifier.predict(X_test)\n",
    "print(classifier.evaluate(X_test, y, ))\n",
    "\n",
    "cm = confusion_matrix(np.argmax(y, 1), np.argmax(predictions, 1))\n",
    "cm = cm.astype('float') / cm.sum(axis=1)[:, np.newaxis]\n",
    "\n",
    "fig = plt.figure()\n",
    "ax =plt.subplot()\n",
    "plt.imshow(cm, interpolation='nearest')\n",
    "sns.heatmap(cm, annot=True, ax = ax);\n",
    "plt.title(\"Confusion matrix\")\n",
    "tick_marks = np.arange(3)\n",
    "plt.xticks(tick_marks, [\"Trump\", \"Not Trump\", \"Random\"], rotation=45)\n",
    "plt.yticks(tick_marks, [\"Trump\", \"Not Trump\", \"Random\"])\n",
    "plt.tight_layout()\n",
    "plt.ylabel('True label')\n",
    "plt.xlabel('Predicted label')\n",
    "plt.show()\n",
    "\n",
    "fig.savefig('cm_train.png')"
   ]
  },
  {
   "cell_type": "code",
   "execution_count": null,
   "metadata": {},
   "outputs": [],
   "source": []
  }
 ],
 "metadata": {
  "kernelspec": {
   "display_name": "Python 3",
   "language": "python",
   "name": "python3"
  },
  "language_info": {
   "codemirror_mode": {
    "name": "ipython",
    "version": 3
   },
   "file_extension": ".py",
   "mimetype": "text/x-python",
   "name": "python",
   "nbconvert_exporter": "python",
   "pygments_lexer": "ipython3",
   "version": "3.6.5"
  }
 },
 "nbformat": 4,
 "nbformat_minor": 2
}
