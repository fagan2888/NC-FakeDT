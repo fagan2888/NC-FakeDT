{
 "cells": [
  {
   "cell_type": "code",
   "execution_count": 86,
   "metadata": {},
   "outputs": [],
   "source": [
    "import pandas as pd\n",
    "import numpy as np\n",
    "import random\n",
    "import os\n",
    "import csv"
   ]
  },
  {
   "cell_type": "code",
   "execution_count": 87,
   "metadata": {},
   "outputs": [
    {
     "name": "stdout",
     "output_type": "stream",
     "text": [
      "['ArianaGrande_tweets.csv', 'BarackObama_tweets.csv', 'BernieSenders_tweets.csv', 'David_Cameron_tweets.csv', 'ElizabethUKRPG_tweets.csv', 'HillaryClinton_tweets.csv', 'JustinTrudeau_tweets.csv', 'KimKardashian_tweets.csv', 'Pontifex_tweets.csv', 'Schwarzenegger_tweets.csv', 'SenJohnMcCain_tweets.csv', 'TheBushCenter_tweets.csv', 'TheEllenShow_tweets.csv', 'britneyspears_tweets.csv', 'elonmusk_tweets.csv', 'iWillSmith_tweets.csv', 'jtimberlake_tweets.csv', 'justinbieber_tweets.csv', 'kaneyewest_tweets.csv', 'katyperry_tweets.csv', 'ladygaga_tweets.csv', 'mike_pence_tweets.csv', 'officialjaden_tweets.csv', 'taylorswift13_tweets.csv', 'theresa_may_tweets.csv']\n",
      "25\n"
     ]
    }
   ],
   "source": [
    "dirs = os.listdir(\".\")\n",
    "dirs = sorted(dirs[1:-1])\n",
    "dirs.remove('Results')\n",
    "print(dirs)\n",
    "print(len(dirs))"
   ]
  },
  {
   "cell_type": "code",
   "execution_count": 88,
   "metadata": {},
   "outputs": [
    {
     "name": "stdout",
     "output_type": "stream",
     "text": [
      "25\n"
     ]
    }
   ],
   "source": [
    "tweets = []\n",
    "for i in range(len(dirs)):\n",
    "    t = []\n",
    "    with open(dirs[i]) as csvfile:\n",
    "        spamreader = csv.reader(csvfile, delimiter='|')\n",
    "\n",
    "        for row in spamreader:\n",
    "            if row != []:\n",
    "                t.append(row)\n",
    "        csvfile.closed\n",
    "            \n",
    "    t = np.array(t)\n",
    "    for e in t:\n",
    "        tweets.append([0,0])\n",
    "        tweets[-1][0]= e[0]\n",
    "        tweets[-1][1]= e[1]\n",
    "\n",
    "#tweets_for_csv = [[username,tweet.id_str, tweet.created_at, tweet.text.encode(\"utf-8\")] for tweet in tweets]\n",
    "\n",
    "tweet_np = np.array(tweets)\n",
    "\n",
    "uniques = np.unique(tweet_np[:,0])\n",
    "print(len(uniques))\n",
    "\n",
    "\n",
    "username = \"NotDonaldTrump\"\n",
    "with open(\"./results/{0}_tweets.csv\".format(username), 'w') as file:\n",
    "    writer = csv.writer(file, delimiter='|')\n",
    "    writer.writerows(tweet_np)"
   ]
  }
 ],
 "metadata": {
  "kernelspec": {
   "display_name": "Python 3",
   "language": "python",
   "name": "python3"
  },
  "language_info": {
   "codemirror_mode": {
    "name": "ipython",
    "version": 3
   },
   "file_extension": ".py",
   "mimetype": "text/x-python",
   "name": "python",
   "nbconvert_exporter": "python",
   "pygments_lexer": "ipython3",
   "version": "3.6.4"
  }
 },
 "nbformat": 4,
 "nbformat_minor": 2
}
